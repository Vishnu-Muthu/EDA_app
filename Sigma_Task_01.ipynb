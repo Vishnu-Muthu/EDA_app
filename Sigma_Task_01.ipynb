{
 "cells": [
  {
   "cell_type": "markdown",
   "metadata": {
    "id": "N2RQ8m3d6kzR"
   },
   "source": [
    "## Importing Dataset\n"
   ]
  },
  {
   "cell_type": "code",
   "execution_count": 4,
   "metadata": {
    "id": "ikn_OF3v1SXX"
   },
   "outputs": [],
   "source": [
    "import pandas as pd\n",
    "import numpy as np\n",
    "import matplotlib.pyplot as plt\n",
    "import seaborn as sns"
   ]
  },
  {
   "cell_type": "code",
   "execution_count": 5,
   "metadata": {
    "id": "_h0D4WBl5y_5"
   },
   "outputs": [
    {
     "ename": "FileNotFoundError",
     "evalue": "[Errno 2] No such file or directory: '/content/drive/MyDrive/Alpha.csv'",
     "output_type": "error",
     "traceback": [
      "\u001b[1;31m---------------------------------------------------------------------------\u001b[0m",
      "\u001b[1;31mFileNotFoundError\u001b[0m                         Traceback (most recent call last)",
      "Cell \u001b[1;32mIn[5], line 1\u001b[0m\n\u001b[1;32m----> 1\u001b[0m df \u001b[38;5;241m=\u001b[39m pd\u001b[38;5;241m.\u001b[39mread_csv(\u001b[38;5;124m\"\u001b[39m\u001b[38;5;124m/content/drive/MyDrive/Alpha.csv\u001b[39m\u001b[38;5;124m\"\u001b[39m)\n",
      "File \u001b[1;32m~\\anaconda3\\Lib\\site-packages\\pandas\\io\\parsers\\readers.py:948\u001b[0m, in \u001b[0;36mread_csv\u001b[1;34m(filepath_or_buffer, sep, delimiter, header, names, index_col, usecols, dtype, engine, converters, true_values, false_values, skipinitialspace, skiprows, skipfooter, nrows, na_values, keep_default_na, na_filter, verbose, skip_blank_lines, parse_dates, infer_datetime_format, keep_date_col, date_parser, date_format, dayfirst, cache_dates, iterator, chunksize, compression, thousands, decimal, lineterminator, quotechar, quoting, doublequote, escapechar, comment, encoding, encoding_errors, dialect, on_bad_lines, delim_whitespace, low_memory, memory_map, float_precision, storage_options, dtype_backend)\u001b[0m\n\u001b[0;32m    935\u001b[0m kwds_defaults \u001b[38;5;241m=\u001b[39m _refine_defaults_read(\n\u001b[0;32m    936\u001b[0m     dialect,\n\u001b[0;32m    937\u001b[0m     delimiter,\n\u001b[1;32m   (...)\u001b[0m\n\u001b[0;32m    944\u001b[0m     dtype_backend\u001b[38;5;241m=\u001b[39mdtype_backend,\n\u001b[0;32m    945\u001b[0m )\n\u001b[0;32m    946\u001b[0m kwds\u001b[38;5;241m.\u001b[39mupdate(kwds_defaults)\n\u001b[1;32m--> 948\u001b[0m \u001b[38;5;28;01mreturn\u001b[39;00m _read(filepath_or_buffer, kwds)\n",
      "File \u001b[1;32m~\\anaconda3\\Lib\\site-packages\\pandas\\io\\parsers\\readers.py:611\u001b[0m, in \u001b[0;36m_read\u001b[1;34m(filepath_or_buffer, kwds)\u001b[0m\n\u001b[0;32m    608\u001b[0m _validate_names(kwds\u001b[38;5;241m.\u001b[39mget(\u001b[38;5;124m\"\u001b[39m\u001b[38;5;124mnames\u001b[39m\u001b[38;5;124m\"\u001b[39m, \u001b[38;5;28;01mNone\u001b[39;00m))\n\u001b[0;32m    610\u001b[0m \u001b[38;5;66;03m# Create the parser.\u001b[39;00m\n\u001b[1;32m--> 611\u001b[0m parser \u001b[38;5;241m=\u001b[39m TextFileReader(filepath_or_buffer, \u001b[38;5;241m*\u001b[39m\u001b[38;5;241m*\u001b[39mkwds)\n\u001b[0;32m    613\u001b[0m \u001b[38;5;28;01mif\u001b[39;00m chunksize \u001b[38;5;129;01mor\u001b[39;00m iterator:\n\u001b[0;32m    614\u001b[0m     \u001b[38;5;28;01mreturn\u001b[39;00m parser\n",
      "File \u001b[1;32m~\\anaconda3\\Lib\\site-packages\\pandas\\io\\parsers\\readers.py:1448\u001b[0m, in \u001b[0;36mTextFileReader.__init__\u001b[1;34m(self, f, engine, **kwds)\u001b[0m\n\u001b[0;32m   1445\u001b[0m     \u001b[38;5;28mself\u001b[39m\u001b[38;5;241m.\u001b[39moptions[\u001b[38;5;124m\"\u001b[39m\u001b[38;5;124mhas_index_names\u001b[39m\u001b[38;5;124m\"\u001b[39m] \u001b[38;5;241m=\u001b[39m kwds[\u001b[38;5;124m\"\u001b[39m\u001b[38;5;124mhas_index_names\u001b[39m\u001b[38;5;124m\"\u001b[39m]\n\u001b[0;32m   1447\u001b[0m \u001b[38;5;28mself\u001b[39m\u001b[38;5;241m.\u001b[39mhandles: IOHandles \u001b[38;5;241m|\u001b[39m \u001b[38;5;28;01mNone\u001b[39;00m \u001b[38;5;241m=\u001b[39m \u001b[38;5;28;01mNone\u001b[39;00m\n\u001b[1;32m-> 1448\u001b[0m \u001b[38;5;28mself\u001b[39m\u001b[38;5;241m.\u001b[39m_engine \u001b[38;5;241m=\u001b[39m \u001b[38;5;28mself\u001b[39m\u001b[38;5;241m.\u001b[39m_make_engine(f, \u001b[38;5;28mself\u001b[39m\u001b[38;5;241m.\u001b[39mengine)\n",
      "File \u001b[1;32m~\\anaconda3\\Lib\\site-packages\\pandas\\io\\parsers\\readers.py:1705\u001b[0m, in \u001b[0;36mTextFileReader._make_engine\u001b[1;34m(self, f, engine)\u001b[0m\n\u001b[0;32m   1703\u001b[0m     \u001b[38;5;28;01mif\u001b[39;00m \u001b[38;5;124m\"\u001b[39m\u001b[38;5;124mb\u001b[39m\u001b[38;5;124m\"\u001b[39m \u001b[38;5;129;01mnot\u001b[39;00m \u001b[38;5;129;01min\u001b[39;00m mode:\n\u001b[0;32m   1704\u001b[0m         mode \u001b[38;5;241m+\u001b[39m\u001b[38;5;241m=\u001b[39m \u001b[38;5;124m\"\u001b[39m\u001b[38;5;124mb\u001b[39m\u001b[38;5;124m\"\u001b[39m\n\u001b[1;32m-> 1705\u001b[0m \u001b[38;5;28mself\u001b[39m\u001b[38;5;241m.\u001b[39mhandles \u001b[38;5;241m=\u001b[39m get_handle(\n\u001b[0;32m   1706\u001b[0m     f,\n\u001b[0;32m   1707\u001b[0m     mode,\n\u001b[0;32m   1708\u001b[0m     encoding\u001b[38;5;241m=\u001b[39m\u001b[38;5;28mself\u001b[39m\u001b[38;5;241m.\u001b[39moptions\u001b[38;5;241m.\u001b[39mget(\u001b[38;5;124m\"\u001b[39m\u001b[38;5;124mencoding\u001b[39m\u001b[38;5;124m\"\u001b[39m, \u001b[38;5;28;01mNone\u001b[39;00m),\n\u001b[0;32m   1709\u001b[0m     compression\u001b[38;5;241m=\u001b[39m\u001b[38;5;28mself\u001b[39m\u001b[38;5;241m.\u001b[39moptions\u001b[38;5;241m.\u001b[39mget(\u001b[38;5;124m\"\u001b[39m\u001b[38;5;124mcompression\u001b[39m\u001b[38;5;124m\"\u001b[39m, \u001b[38;5;28;01mNone\u001b[39;00m),\n\u001b[0;32m   1710\u001b[0m     memory_map\u001b[38;5;241m=\u001b[39m\u001b[38;5;28mself\u001b[39m\u001b[38;5;241m.\u001b[39moptions\u001b[38;5;241m.\u001b[39mget(\u001b[38;5;124m\"\u001b[39m\u001b[38;5;124mmemory_map\u001b[39m\u001b[38;5;124m\"\u001b[39m, \u001b[38;5;28;01mFalse\u001b[39;00m),\n\u001b[0;32m   1711\u001b[0m     is_text\u001b[38;5;241m=\u001b[39mis_text,\n\u001b[0;32m   1712\u001b[0m     errors\u001b[38;5;241m=\u001b[39m\u001b[38;5;28mself\u001b[39m\u001b[38;5;241m.\u001b[39moptions\u001b[38;5;241m.\u001b[39mget(\u001b[38;5;124m\"\u001b[39m\u001b[38;5;124mencoding_errors\u001b[39m\u001b[38;5;124m\"\u001b[39m, \u001b[38;5;124m\"\u001b[39m\u001b[38;5;124mstrict\u001b[39m\u001b[38;5;124m\"\u001b[39m),\n\u001b[0;32m   1713\u001b[0m     storage_options\u001b[38;5;241m=\u001b[39m\u001b[38;5;28mself\u001b[39m\u001b[38;5;241m.\u001b[39moptions\u001b[38;5;241m.\u001b[39mget(\u001b[38;5;124m\"\u001b[39m\u001b[38;5;124mstorage_options\u001b[39m\u001b[38;5;124m\"\u001b[39m, \u001b[38;5;28;01mNone\u001b[39;00m),\n\u001b[0;32m   1714\u001b[0m )\n\u001b[0;32m   1715\u001b[0m \u001b[38;5;28;01massert\u001b[39;00m \u001b[38;5;28mself\u001b[39m\u001b[38;5;241m.\u001b[39mhandles \u001b[38;5;129;01mis\u001b[39;00m \u001b[38;5;129;01mnot\u001b[39;00m \u001b[38;5;28;01mNone\u001b[39;00m\n\u001b[0;32m   1716\u001b[0m f \u001b[38;5;241m=\u001b[39m \u001b[38;5;28mself\u001b[39m\u001b[38;5;241m.\u001b[39mhandles\u001b[38;5;241m.\u001b[39mhandle\n",
      "File \u001b[1;32m~\\anaconda3\\Lib\\site-packages\\pandas\\io\\common.py:863\u001b[0m, in \u001b[0;36mget_handle\u001b[1;34m(path_or_buf, mode, encoding, compression, memory_map, is_text, errors, storage_options)\u001b[0m\n\u001b[0;32m    858\u001b[0m \u001b[38;5;28;01melif\u001b[39;00m \u001b[38;5;28misinstance\u001b[39m(handle, \u001b[38;5;28mstr\u001b[39m):\n\u001b[0;32m    859\u001b[0m     \u001b[38;5;66;03m# Check whether the filename is to be opened in binary mode.\u001b[39;00m\n\u001b[0;32m    860\u001b[0m     \u001b[38;5;66;03m# Binary mode does not support 'encoding' and 'newline'.\u001b[39;00m\n\u001b[0;32m    861\u001b[0m     \u001b[38;5;28;01mif\u001b[39;00m ioargs\u001b[38;5;241m.\u001b[39mencoding \u001b[38;5;129;01mand\u001b[39;00m \u001b[38;5;124m\"\u001b[39m\u001b[38;5;124mb\u001b[39m\u001b[38;5;124m\"\u001b[39m \u001b[38;5;129;01mnot\u001b[39;00m \u001b[38;5;129;01min\u001b[39;00m ioargs\u001b[38;5;241m.\u001b[39mmode:\n\u001b[0;32m    862\u001b[0m         \u001b[38;5;66;03m# Encoding\u001b[39;00m\n\u001b[1;32m--> 863\u001b[0m         handle \u001b[38;5;241m=\u001b[39m \u001b[38;5;28mopen\u001b[39m(\n\u001b[0;32m    864\u001b[0m             handle,\n\u001b[0;32m    865\u001b[0m             ioargs\u001b[38;5;241m.\u001b[39mmode,\n\u001b[0;32m    866\u001b[0m             encoding\u001b[38;5;241m=\u001b[39mioargs\u001b[38;5;241m.\u001b[39mencoding,\n\u001b[0;32m    867\u001b[0m             errors\u001b[38;5;241m=\u001b[39merrors,\n\u001b[0;32m    868\u001b[0m             newline\u001b[38;5;241m=\u001b[39m\u001b[38;5;124m\"\u001b[39m\u001b[38;5;124m\"\u001b[39m,\n\u001b[0;32m    869\u001b[0m         )\n\u001b[0;32m    870\u001b[0m     \u001b[38;5;28;01melse\u001b[39;00m:\n\u001b[0;32m    871\u001b[0m         \u001b[38;5;66;03m# Binary mode\u001b[39;00m\n\u001b[0;32m    872\u001b[0m         handle \u001b[38;5;241m=\u001b[39m \u001b[38;5;28mopen\u001b[39m(handle, ioargs\u001b[38;5;241m.\u001b[39mmode)\n",
      "\u001b[1;31mFileNotFoundError\u001b[0m: [Errno 2] No such file or directory: '/content/drive/MyDrive/Alpha.csv'"
     ]
    }
   ],
   "source": [
    "df = pd.read_csv(\"/content/drive/MyDrive/Alpha.csv\")"
   ]
  },
  {
   "cell_type": "markdown",
   "metadata": {
    "id": "mxxdIoIv6u0e"
   },
   "source": [
    "##Dataset Inspection\n"
   ]
  },
  {
   "cell_type": "code",
   "execution_count": null,
   "metadata": {
    "colab": {
     "base_uri": "https://localhost:8080/",
     "height": 0
    },
    "id": "xyameiF857ZO",
    "outputId": "99c552c0-5195-4074-87b6-dd6bc6f4d8a5"
   },
   "outputs": [],
   "source": [
    "df.head()"
   ]
  },
  {
   "cell_type": "code",
   "execution_count": null,
   "metadata": {
    "colab": {
     "base_uri": "https://localhost:8080/",
     "height": 0
    },
    "id": "qKFR2zHf570K",
    "outputId": "38c1fbc2-a17e-424c-d82c-c33f244a15b0"
   },
   "outputs": [],
   "source": [
    "df.tail()"
   ]
  },
  {
   "cell_type": "code",
   "execution_count": null,
   "metadata": {
    "colab": {
     "base_uri": "https://localhost:8080/"
    },
    "id": "YAfzg2z_59Nc",
    "outputId": "f81e60cd-770f-4df1-c396-b603ed3ad7e4"
   },
   "outputs": [],
   "source": [
    "df.info()"
   ]
  },
  {
   "cell_type": "code",
   "execution_count": null,
   "metadata": {
    "colab": {
     "base_uri": "https://localhost:8080/",
     "height": 0
    },
    "id": "OkZH9q7J5_CQ",
    "outputId": "a27c13b6-403d-4fa4-a8b7-fdfd3f6ee974"
   },
   "outputs": [],
   "source": [
    "df.describe()"
   ]
  },
  {
   "cell_type": "markdown",
   "metadata": {
    "id": "3K-3MlHv6_2Y"
   },
   "source": [
    "##Data Cleaning"
   ]
  },
  {
   "cell_type": "markdown",
   "metadata": {
    "id": "Uh27i1_DHaEj"
   },
   "source": [
    "### Fixing Missing Data"
   ]
  },
  {
   "cell_type": "markdown",
   "metadata": {
    "id": "qXrEByy87lNQ"
   },
   "source": [
    "Finding the number of missing values in each column.\n"
   ]
  },
  {
   "cell_type": "code",
   "execution_count": null,
   "metadata": {
    "colab": {
     "base_uri": "https://localhost:8080/"
    },
    "id": "N2bXp92X7C6f",
    "outputId": "7915a19a-cb07-4c52-d36c-4f221a0c2956"
   },
   "outputs": [],
   "source": [
    "missing_vals = df.isnull().sum()\n",
    "print(missing_vals)"
   ]
  },
  {
   "cell_type": "markdown",
   "metadata": {
    "id": "tlc1eULs99XL"
   },
   "source": [
    "We are able to find that the most missing values are in the columns\n",
    "\n",
    "usually_ships_within, buyers_fees, has_cross_border_fees, product_category, product_keywords"
   ]
  },
  {
   "cell_type": "code",
   "execution_count": null,
   "metadata": {
    "colab": {
     "base_uri": "https://localhost:8080/"
    },
    "id": "fahBzXmq_E6c",
    "outputId": "62aa0e5f-03b6-4f8c-a217-30f15e47a96b"
   },
   "outputs": [],
   "source": [
    "print(df.has_cross_border_fees)"
   ]
  },
  {
   "cell_type": "code",
   "execution_count": null,
   "metadata": {
    "id": "GS92fLNg_KIF"
   },
   "outputs": [],
   "source": [
    "missing_values_has_cross_border_fees = df['has_cross_border_fees'].isnull().sum()\n",
    "random_vals = np.random.choice([True, False], size=missing_values_has_cross_border_fees)\n",
    "df.loc[df['has_cross_border_fees'].isnull(), 'has_cross_border_fees'] = random_vals"
   ]
  },
  {
   "cell_type": "code",
   "execution_count": null,
   "metadata": {
    "colab": {
     "base_uri": "https://localhost:8080/"
    },
    "id": "_jRbzlAnEb0D",
    "outputId": "a92f73f4-84ce-41b7-aac0-cb7a55d0dd20"
   },
   "outputs": [],
   "source": [
    "print(df.has_cross_border_fees)"
   ]
  },
  {
   "cell_type": "code",
   "execution_count": null,
   "metadata": {
    "colab": {
     "base_uri": "https://localhost:8080/"
    },
    "id": "1l9dyUdnFTnn",
    "outputId": "c815c8cd-09e0-4984-894c-6fa02e44e6f8"
   },
   "outputs": [],
   "source": [
    "missing_values_has_cross_border_fees = df['has_cross_border_fees'].isnull().sum()\n",
    "print(missing_values_has_cross_border_fees)"
   ]
  },
  {
   "cell_type": "code",
   "execution_count": null,
   "metadata": {
    "colab": {
     "base_uri": "https://localhost:8080/"
    },
    "id": "pl85SInqFwOc",
    "outputId": "eb304f78-3414-46b3-cb70-c9b96b3b0426"
   },
   "outputs": [],
   "source": [
    "print(df.buyers_fees)"
   ]
  },
  {
   "cell_type": "code",
   "execution_count": null,
   "metadata": {
    "colab": {
     "base_uri": "https://localhost:8080/",
     "height": 0
    },
    "id": "RIwl7NRGGvaZ",
    "outputId": "2be81741-1017-47fc-bbb9-349a1c7708a5"
   },
   "outputs": [],
   "source": [
    "df['buyers_fees'].hist(bins=50)\n",
    "plt.title('Distribution of Buyers Fees')\n",
    "plt.xlabel('Buyers Fees')\n",
    "plt.ylabel('Frequency')\n",
    "plt.show()"
   ]
  },
  {
   "cell_type": "code",
   "execution_count": null,
   "metadata": {
    "id": "VoyPAhzIIF_G"
   },
   "outputs": [],
   "source": [
    "df['buyers_fees'].fillna(df['buyers_fees'].median(), inplace=True)"
   ]
  },
  {
   "cell_type": "code",
   "execution_count": null,
   "metadata": {
    "colab": {
     "base_uri": "https://localhost:8080/"
    },
    "id": "4V1kE8TDIR_k",
    "outputId": "611adea3-6dbe-4578-e8fd-8056ca7cd79c"
   },
   "outputs": [],
   "source": [
    "print(df.buyers_fees)"
   ]
  },
  {
   "cell_type": "code",
   "execution_count": null,
   "metadata": {
    "colab": {
     "base_uri": "https://localhost:8080/"
    },
    "id": "Vvmu9tXnIU2V",
    "outputId": "26a4fd9c-377f-45b9-f46c-9f36dfb618cc"
   },
   "outputs": [],
   "source": [
    "df.buyers_fees.isnull().sum()"
   ]
  },
  {
   "cell_type": "code",
   "execution_count": null,
   "metadata": {
    "id": "TV1LeImnIZxD"
   },
   "outputs": [],
   "source": [
    "df['usually_ships_within'].fillna(df['usually_ships_within'].mode()[0], inplace=True)"
   ]
  },
  {
   "cell_type": "code",
   "execution_count": null,
   "metadata": {
    "colab": {
     "base_uri": "https://localhost:8080/"
    },
    "id": "lz1dfANcIp_F",
    "outputId": "b369dd33-d4ab-4fe9-f7c5-f93143c24fa7"
   },
   "outputs": [],
   "source": [
    "df.usually_ships_within.isnull().sum()"
   ]
  },
  {
   "cell_type": "code",
   "execution_count": null,
   "metadata": {
    "colab": {
     "base_uri": "https://localhost:8080/"
    },
    "id": "UyFy-sK_Ke12",
    "outputId": "5567f6d9-e8f0-40cb-c786-26f3c67cb896"
   },
   "outputs": [],
   "source": [
    "df.product_keywords"
   ]
  },
  {
   "cell_type": "code",
   "execution_count": null,
   "metadata": {
    "colab": {
     "base_uri": "https://localhost:8080/"
    },
    "id": "M11z1f2WKf35",
    "outputId": "17affeca-cfc7-4cb2-f8f3-d02ba6b57c6a"
   },
   "outputs": [],
   "source": [
    "df.product_category.isnull()"
   ]
  },
  {
   "cell_type": "code",
   "execution_count": null,
   "metadata": {
    "colab": {
     "base_uri": "https://localhost:8080/"
    },
    "id": "CfdsOJ_ZC24l",
    "outputId": "38eca3d4-b64d-478a-82db-124e3963b571"
   },
   "outputs": [],
   "source": [
    "if df.product_category.isnull().any() == True:\n",
    "  a = df[df.product_category.isnull()]\n",
    "  print(a)"
   ]
  },
  {
   "cell_type": "code",
   "execution_count": null,
   "metadata": {
    "id": "Us7cs8vQEn5Y"
   },
   "outputs": [],
   "source": [
    "df['product_category'] = df.apply(\n",
    "    lambda row: f\"{row['product_gender_target']} clothing\" if pd.isnull(row['product_category']) else row['product_category'],\n",
    "    axis=1\n",
    ")"
   ]
  },
  {
   "cell_type": "code",
   "execution_count": null,
   "metadata": {
    "colab": {
     "base_uri": "https://localhost:8080/",
     "height": 0
    },
    "id": "F2K7L3HiHbeQ",
    "outputId": "ce9f4079-2fca-4900-aaf2-521caa7f6802"
   },
   "outputs": [],
   "source": [
    "df"
   ]
  },
  {
   "cell_type": "code",
   "execution_count": null,
   "metadata": {
    "colab": {
     "base_uri": "https://localhost:8080/"
    },
    "id": "OlHDS1jnIAiz",
    "outputId": "07fb1b23-b302-4ab3-d215-efee0e5222a8"
   },
   "outputs": [],
   "source": [
    "df.product_category.isnull().sum()"
   ]
  },
  {
   "cell_type": "code",
   "execution_count": null,
   "metadata": {
    "colab": {
     "base_uri": "https://localhost:8080/"
    },
    "id": "MAnPpObSMGKR",
    "outputId": "1e57630e-82fb-4751-8294-0f85a746ef79"
   },
   "outputs": [],
   "source": [
    "df.seller_username"
   ]
  },
  {
   "cell_type": "code",
   "execution_count": null,
   "metadata": {
    "id": "TnCwpl0BipYs"
   },
   "outputs": [],
   "source": [
    "if df.seller_username.isnull().any() == True:\n",
    "  df.seller_username.fillna(\"Not Available\", inplace=True)"
   ]
  },
  {
   "cell_type": "code",
   "execution_count": null,
   "metadata": {
    "colab": {
     "base_uri": "https://localhost:8080/"
    },
    "id": "3jwQHxB0jC47",
    "outputId": "52fb639e-545d-4ea9-fb75-10df3c2e01ea"
   },
   "outputs": [],
   "source": [
    "df.seller_username.isnull().sum()"
   ]
  },
  {
   "cell_type": "code",
   "execution_count": null,
   "metadata": {
    "colab": {
     "base_uri": "https://localhost:8080/"
    },
    "id": "Jl86jA74lGX5",
    "outputId": "57d2ae27-310b-489a-92b4-5202c83b4197"
   },
   "outputs": [],
   "source": [
    "no_color = df[df['product_color'].isnull()==True]\n",
    "print(no_color)"
   ]
  },
  {
   "cell_type": "code",
   "execution_count": null,
   "metadata": {
    "id": "bUCDTtIolQrC"
   },
   "outputs": [],
   "source": [
    "if df.product_color.isnull().any() == True:\n",
    "  df.product_color.fillna(\"black and green\", inplace=True)"
   ]
  },
  {
   "cell_type": "code",
   "execution_count": null,
   "metadata": {
    "colab": {
     "base_uri": "https://localhost:8080/"
    },
    "id": "FK0oAR0gnkYc",
    "outputId": "9674c2c9-77f6-4047-e3cd-da7bc8a90544"
   },
   "outputs": [],
   "source": [
    "no_material= df[df['product_material'].isnull()==True]\n",
    "print(no_material)"
   ]
  },
  {
   "cell_type": "code",
   "execution_count": null,
   "metadata": {
    "id": "Xsq0pIzKokJN"
   },
   "outputs": [],
   "source": [
    "if df['product_material'].isnull().any()==True:\n",
    "  df['product_material'].fillna(\"NaN\", inplace=True)"
   ]
  },
  {
   "cell_type": "code",
   "execution_count": null,
   "metadata": {
    "colab": {
     "base_uri": "https://localhost:8080/"
    },
    "id": "YSDITtPg5FxS",
    "outputId": "a02cdbc7-a4d5-4af3-94bc-f75ec8bf55fc"
   },
   "outputs": [],
   "source": [
    "df['product_material'].isnull().sum()"
   ]
  },
  {
   "cell_type": "code",
   "execution_count": null,
   "metadata": {
    "colab": {
     "base_uri": "https://localhost:8080/"
    },
    "id": "1URKpXP-5SJR",
    "outputId": "c23601f3-3f02-4734-be45-3a659793de22"
   },
   "outputs": [],
   "source": [
    "no_season= df[df['product_season'].isnull()==True]\n",
    "print(no_season)"
   ]
  },
  {
   "cell_type": "code",
   "execution_count": null,
   "metadata": {
    "id": "192QXhsT7a5K"
   },
   "outputs": [],
   "source": [
    "if df['product_season'].isnull().any()==True:\n",
    "  df['product_season'].fillna(\"All seasons\", inplace=True)"
   ]
  },
  {
   "cell_type": "code",
   "execution_count": null,
   "metadata": {
    "colab": {
     "base_uri": "https://localhost:8080/"
    },
    "id": "onrvFUT47sIg",
    "outputId": "bce7bf20-a7f0-46ef-d76e-2b07b7a79a77"
   },
   "outputs": [],
   "source": [
    "df['product_season'].isnull().sum()"
   ]
  },
  {
   "cell_type": "code",
   "execution_count": null,
   "metadata": {
    "id": "RveqM1IaEGgw"
   },
   "outputs": [],
   "source": [
    "df['product_description'].fillna(\"NIL\", inplace=True)\n",
    "df['product_keywords'].fillna(\"NIL\", inplace=True)"
   ]
  },
  {
   "cell_type": "code",
   "execution_count": null,
   "metadata": {
    "colab": {
     "base_uri": "https://localhost:8080/"
    },
    "id": "Cm2bF-fuGqbB",
    "outputId": "b852c1db-4d49-4d87-9351-647c329f85c6"
   },
   "outputs": [],
   "source": [
    " df.isnull().sum()"
   ]
  },
  {
   "cell_type": "markdown",
   "metadata": {
    "id": "C-l1p4v_HwJG"
   },
   "source": [
    "###Finding Duplicate Data"
   ]
  },
  {
   "cell_type": "code",
   "execution_count": null,
   "metadata": {
    "id": "w5LL9p6aH6h0"
   },
   "outputs": [],
   "source": [
    "duplicates = df.duplicated()"
   ]
  },
  {
   "cell_type": "code",
   "execution_count": null,
   "metadata": {
    "colab": {
     "base_uri": "https://localhost:8080/"
    },
    "id": "m8k9vDt_INVY",
    "outputId": "f89026a0-5d16-4860-9c6c-4ff7eddf5965"
   },
   "outputs": [],
   "source": [
    "print(duplicates)"
   ]
  },
  {
   "cell_type": "code",
   "execution_count": null,
   "metadata": {
    "colab": {
     "base_uri": "https://localhost:8080/"
    },
    "id": "_NreqfLwIRqb",
    "outputId": "0e51f555-97c4-4524-a0b0-8c5d8324558b"
   },
   "outputs": [],
   "source": [
    "print(duplicates.sum())"
   ]
  },
  {
   "cell_type": "markdown",
   "metadata": {
    "id": "F6kh-lWcIeEZ"
   },
   "source": [
    "There are no Duplicates in this Dataset."
   ]
  },
  {
   "cell_type": "markdown",
   "metadata": {
    "id": "RTIHgyh-QopX"
   },
   "source": [
    "###Finding and Cleaning Outliers"
   ]
  },
  {
   "cell_type": "code",
   "execution_count": null,
   "metadata": {
    "colab": {
     "base_uri": "https://localhost:8080/",
     "height": 487
    },
    "id": "FpTMQQsjQrTI",
    "outputId": "03b3f9ea-529b-43f0-88c1-83924ff3f2c7"
   },
   "outputs": [],
   "source": [
    "plt.figure(figsize=(10, 5))\n",
    "sns.boxplot(x=df['product_like_count'])\n",
    "plt.title('Box Plot of product_like_count')\n",
    "plt.show()"
   ]
  },
  {
   "cell_type": "code",
   "execution_count": null,
   "metadata": {
    "colab": {
     "base_uri": "https://localhost:8080/"
    },
    "id": "cq3Fskr9R3LX",
    "outputId": "d5e09603-4c24-49fa-d992-9c645492f8c6"
   },
   "outputs": [],
   "source": [
    "column = 'product_like_count'\n",
    "\n",
    "# Calculate Q1 (25th percentile) and Q3 (75th percentile)\n",
    "Q1 = df[column].quantile(0.25)\n",
    "Q3 = df[column].quantile(0.75)\n",
    "IQR = Q3 - Q1\n",
    "\n",
    "# Define the lower and upper bounds\n",
    "lower_bound = Q1 - 1.5 * IQR\n",
    "upper_bound = Q3 + 1.5 * IQR\n",
    "\n",
    "# Identify outliers\n",
    "outliers = df[(df[column] < lower_bound) | (df[column] > upper_bound)]\n",
    "print(\"Outliers using IQR method:\\n\", outliers)\n",
    "\n",
    "# Summary statistics for context\n",
    "print(f\"Q1: {Q1}, Q3: {Q3}, IQR: {IQR}\")\n",
    "print(f\"Lower bound: {lower_bound}, Upper bound: {upper_bound}\")"
   ]
  },
  {
   "cell_type": "code",
   "execution_count": null,
   "metadata": {
    "id": "TPi3r7YeR34R"
   },
   "outputs": [],
   "source": [
    "df_cleaned = df[(df[column] >= lower_bound) & (df[column] <= upper_bound)]"
   ]
  },
  {
   "cell_type": "code",
   "execution_count": null,
   "metadata": {
    "colab": {
     "base_uri": "https://localhost:8080/",
     "height": 487
    },
    "id": "B5hafUInSX8t",
    "outputId": "8cde5e8c-1082-44d0-86dd-91daadb1dd5a"
   },
   "outputs": [],
   "source": [
    "plt.figure(figsize=(10, 5))\n",
    "sns.boxplot(x=df_cleaned['product_like_count'])\n",
    "plt.title('Box Plot of product_like_count after handling outliers')\n",
    "plt.show()"
   ]
  },
  {
   "cell_type": "code",
   "execution_count": null,
   "metadata": {
    "colab": {
     "base_uri": "https://localhost:8080/",
     "height": 487
    },
    "id": "IIPtzhnrT_2y",
    "outputId": "115fb8ce-48b6-4845-995e-04315c054be5"
   },
   "outputs": [],
   "source": [
    "plt.figure(figsize=(10, 5))\n",
    "sns.boxplot(x=df['price_usd'])\n",
    "plt.title('Box Plot of price_usd')\n",
    "plt.show()"
   ]
  },
  {
   "cell_type": "code",
   "execution_count": null,
   "metadata": {
    "colab": {
     "base_uri": "https://localhost:8080/"
    },
    "id": "f9OL-UC9SdiO",
    "outputId": "b3957831-86aa-496c-f0a3-70de511aed84"
   },
   "outputs": [],
   "source": [
    "column = 'price_usd'\n",
    "\n",
    "Q1 = df[column].quantile(0.25)\n",
    "Q3 = df[column].quantile(0.75)\n",
    "IQR = Q3 - Q1\n",
    "\n",
    "lower_bound = Q1 - 1.5 * IQR\n",
    "upper_bound = Q3 + 1.5 * IQR\n",
    "\n",
    "outliers = df[(df[column] < lower_bound) | (df[column] > upper_bound)]\n",
    "print(\"Outliers using IQR method:\\n\", outliers)\n",
    "\n",
    "print(f\"Q1: {Q1}, Q3: {Q3}, IQR: {IQR}\")\n",
    "print(f\"Lower bound: {lower_bound}, Upper bound: {upper_bound}\")"
   ]
  },
  {
   "cell_type": "code",
   "execution_count": null,
   "metadata": {
    "id": "w82FUmo7TDCp"
   },
   "outputs": [],
   "source": [
    "df_cleaned = df[(df[column] >= lower_bound) & (df[column] <= upper_bound)]"
   ]
  },
  {
   "cell_type": "code",
   "execution_count": null,
   "metadata": {
    "colab": {
     "base_uri": "https://localhost:8080/",
     "height": 487
    },
    "id": "UyUuphMfS21Y",
    "outputId": "e4c57d78-98ee-46a9-ff5d-fb9fdd7056c0"
   },
   "outputs": [],
   "source": [
    "plt.figure(figsize=(10, 5))\n",
    "sns.boxplot(x=df_cleaned['price_usd'])\n",
    "plt.title('Box Plot of price_usd after handling outliers')\n",
    "plt.show()"
   ]
  },
  {
   "cell_type": "code",
   "execution_count": null,
   "metadata": {
    "colab": {
     "base_uri": "https://localhost:8080/",
     "height": 487
    },
    "id": "uBKFgjUwULwX",
    "outputId": "065b8189-f786-4403-b513-4be4c4d60f8b"
   },
   "outputs": [],
   "source": [
    "plt.figure(figsize=(10, 5))\n",
    "sns.boxplot(x=df['seller_price'])\n",
    "plt.title('Box Plot of seller_price')\n",
    "plt.show()"
   ]
  },
  {
   "cell_type": "code",
   "execution_count": null,
   "metadata": {
    "colab": {
     "base_uri": "https://localhost:8080/"
    },
    "id": "f0glLaNbS_S2",
    "outputId": "1e33a75f-9708-4e98-af99-2ec3c3c8ecd2"
   },
   "outputs": [],
   "source": [
    "column = 'seller_price'\n",
    "\n",
    "Q1 = df[column].quantile(0.25)\n",
    "Q3 = df[column].quantile(0.75)\n",
    "IQR = Q3 - Q1\n",
    "\n",
    "lower_bound = Q1 - 1.5 * IQR\n",
    "upper_bound = Q3 + 1.5 * IQR\n",
    "\n",
    "outliers = df[(df[column] < lower_bound) | (df[column] > upper_bound)]\n",
    "print(\"Outliers using IQR method:\\n\", outliers)\n",
    "\n",
    "print(f\"Q1: {Q1}, Q3: {Q3}, IQR: {IQR}\")\n",
    "print(f\"Lower bound: {lower_bound}, Upper bound: {upper_bound}\")"
   ]
  },
  {
   "cell_type": "code",
   "execution_count": null,
   "metadata": {
    "id": "IXZBxNlJTPPN"
   },
   "outputs": [],
   "source": [
    "df_cleaned = df[(df[column] >= lower_bound) & (df[column] <= upper_bound)]"
   ]
  },
  {
   "cell_type": "code",
   "execution_count": null,
   "metadata": {
    "colab": {
     "base_uri": "https://localhost:8080/",
     "height": 487
    },
    "id": "rf6Uszi9TSIs",
    "outputId": "915b42e3-ff2c-480a-8824-7d093e69b365"
   },
   "outputs": [],
   "source": [
    "plt.figure(figsize=(10, 5))\n",
    "sns.boxplot(x=df_cleaned['seller_price'])\n",
    "plt.title('Box Plot of seller_price after handling outliers')\n",
    "plt.show()"
   ]
  },
  {
   "cell_type": "code",
   "execution_count": null,
   "metadata": {
    "colab": {
     "base_uri": "https://localhost:8080/",
     "height": 487
    },
    "id": "S44A97yVUVLr",
    "outputId": "a9a5115e-efb4-4af4-b2e3-2c9cb9b0c675"
   },
   "outputs": [],
   "source": [
    "plt.figure(figsize=(10, 5))\n",
    "sns.boxplot(x=df['seller_earning'])\n",
    "plt.title('Box Plot of seller_earning')\n",
    "plt.show()"
   ]
  },
  {
   "cell_type": "code",
   "execution_count": null,
   "metadata": {
    "colab": {
     "base_uri": "https://localhost:8080/"
    },
    "id": "4rUA2MoWTXSD",
    "outputId": "33cc8098-a7c7-46f9-e476-383119f0a607"
   },
   "outputs": [],
   "source": [
    "column = 'seller_earning'\n",
    "\n",
    "Q1 = df[column].quantile(0.25)\n",
    "Q3 = df[column].quantile(0.75)\n",
    "IQR = Q3 - Q1\n",
    "\n",
    "lower_bound = Q1 - 1.5 * IQR\n",
    "upper_bound = Q3 + 1.5 * IQR\n",
    "\n",
    "outliers = df[(df[column] < lower_bound) | (df[column] > upper_bound)]\n",
    "print(\"Outliers using IQR method:\\n\", outliers)\n",
    "\n",
    "print(f\"Q1: {Q1}, Q3: {Q3}, IQR: {IQR}\")\n",
    "print(f\"Lower bound: {lower_bound}, Upper bound: {upper_bound}\")"
   ]
  },
  {
   "cell_type": "code",
   "execution_count": null,
   "metadata": {
    "id": "yYsuIDPNTiTr"
   },
   "outputs": [],
   "source": [
    "df_cleaned = df[(df[column] >= lower_bound) & (df[column] <= upper_bound)]"
   ]
  },
  {
   "cell_type": "code",
   "execution_count": null,
   "metadata": {
    "colab": {
     "base_uri": "https://localhost:8080/",
     "height": 487
    },
    "id": "gEFTNjMbTnhm",
    "outputId": "ac34a193-732e-45c2-9bbc-3a56c89de46e"
   },
   "outputs": [],
   "source": [
    "plt.figure(figsize=(10, 5))\n",
    "sns.boxplot(x=df_cleaned['seller_earning'])\n",
    "plt.title('Box Plot of seller_earning after handling outliers')\n",
    "plt.show()"
   ]
  },
  {
   "cell_type": "code",
   "execution_count": null,
   "metadata": {
    "colab": {
     "base_uri": "https://localhost:8080/",
     "height": 487
    },
    "id": "NmlD2dhOToDW",
    "outputId": "b5711d43-136c-42ce-fe37-c5ccbb48fbcf"
   },
   "outputs": [],
   "source": [
    "plt.figure(figsize=(10, 5))\n",
    "sns.boxplot(x=df['buyers_fees'])\n",
    "plt.title('Box Plot of buyers_fees')\n",
    "plt.show()"
   ]
  },
  {
   "cell_type": "code",
   "execution_count": null,
   "metadata": {
    "colab": {
     "base_uri": "https://localhost:8080/"
    },
    "id": "KzRcBmMXVF5Q",
    "outputId": "9e3ce7e5-62a2-4e3f-8cee-88b058a75200"
   },
   "outputs": [],
   "source": [
    "column = 'buyers_fees'\n",
    "\n",
    "Q1 = df[column].quantile(0.25)\n",
    "Q3 = df[column].quantile(0.75)\n",
    "IQR = Q3 - Q1\n",
    "\n",
    "lower_bound = Q1 - 1.5 * IQR\n",
    "upper_bound = Q3 + 1.5 * IQR\n",
    "\n",
    "outliers = df[(df[column] < lower_bound) | (df[column] > upper_bound)]\n",
    "print(\"Outliers using IQR method:\\n\", outliers)\n",
    "\n",
    "print(f\"Q1: {Q1}, Q3: {Q3}, IQR: {IQR}\")\n",
    "print(f\"Lower bound: {lower_bound}, Upper bound: {upper_bound}\")"
   ]
  },
  {
   "cell_type": "code",
   "execution_count": null,
   "metadata": {
    "id": "Dj8NYPVkVJsw"
   },
   "outputs": [],
   "source": [
    "df_cleaned = df[(df[column] >= lower_bound) & (df[column] <= upper_bound)]"
   ]
  },
  {
   "cell_type": "code",
   "execution_count": null,
   "metadata": {
    "colab": {
     "base_uri": "https://localhost:8080/",
     "height": 487
    },
    "id": "cBdDXYeDVLxZ",
    "outputId": "e6cf4989-6122-4349-e695-7a9a840bfd55"
   },
   "outputs": [],
   "source": [
    "plt.figure(figsize=(10, 5))\n",
    "sns.boxplot(x=df_cleaned['buyers_fees'])\n",
    "plt.title('Box Plot of buyers_fees after handling outliers')\n",
    "plt.show()"
   ]
  },
  {
   "cell_type": "code",
   "execution_count": null,
   "metadata": {
    "colab": {
     "base_uri": "https://localhost:8080/",
     "height": 487
    },
    "id": "NQSV_OznWvU1",
    "outputId": "b83e184f-e156-41fa-beed-363e6ec26cbe"
   },
   "outputs": [],
   "source": [
    "plt.figure(figsize=(10, 5))\n",
    "sns.boxplot(x=df['seller_products_sold'])\n",
    "plt.title('Box Plot of seller_products_sold')\n",
    "plt.show()"
   ]
  },
  {
   "cell_type": "code",
   "execution_count": null,
   "metadata": {
    "colab": {
     "base_uri": "https://localhost:8080/"
    },
    "id": "l40KXCkmVP1N",
    "outputId": "9e92960c-d1a4-4e5b-e751-a97e60390370"
   },
   "outputs": [],
   "source": [
    "column = 'seller_products_sold'\n",
    "\n",
    "Q1 = df[column].quantile(0.25)\n",
    "Q3 = df[column].quantile(0.75)\n",
    "IQR = Q3 - Q1\n",
    "\n",
    "lower_bound = Q1 - 1.5 * IQR\n",
    "upper_bound = Q3 + 1.5 * IQR\n",
    "\n",
    "outliers = df[(df[column] < lower_bound) | (df[column] > upper_bound)]\n",
    "print(\"Outliers using IQR method:\\n\", outliers)\n",
    "\n",
    "print(f\"Q1: {Q1}, Q3: {Q3}, IQR: {IQR}\")\n",
    "print(f\"Lower bound: {lower_bound}, Upper bound: {upper_bound}\")"
   ]
  },
  {
   "cell_type": "code",
   "execution_count": null,
   "metadata": {
    "id": "XaTqkoKLWoJ8"
   },
   "outputs": [],
   "source": [
    "df_cleaned = df[(df[column] >= lower_bound) & (df[column] <= upper_bound)]"
   ]
  },
  {
   "cell_type": "code",
   "execution_count": null,
   "metadata": {
    "colab": {
     "base_uri": "https://localhost:8080/",
     "height": 487
    },
    "id": "UwZl7YcfW53x",
    "outputId": "d6e633da-a0d8-4575-ad6d-b9be0e06edf7"
   },
   "outputs": [],
   "source": [
    "plt.figure(figsize=(10, 5))\n",
    "sns.boxplot(x=df_cleaned['seller_products_sold'])\n",
    "plt.title('Box Plot of seller_products_sold after handling outliers')\n",
    "plt.show()"
   ]
  },
  {
   "cell_type": "code",
   "execution_count": null,
   "metadata": {
    "colab": {
     "base_uri": "https://localhost:8080/",
     "height": 487
    },
    "id": "Rl4ovXFNXJsw",
    "outputId": "415438f4-9c11-43ee-e5d3-4e4590b20f5c"
   },
   "outputs": [],
   "source": [
    "plt.figure(figsize=(10, 5))\n",
    "sns.boxplot(x=df['seller_community_rank'])\n",
    "plt.title('Box Plot of seller_community_rank')\n",
    "plt.show()"
   ]
  },
  {
   "cell_type": "code",
   "execution_count": null,
   "metadata": {
    "colab": {
     "base_uri": "https://localhost:8080/",
     "height": 0
    },
    "id": "XPlAu_SyXiKr",
    "outputId": "27cb2c42-d133-4bd3-fce7-4261f7ae213c"
   },
   "outputs": [],
   "source": [
    "plt.figure(figsize=(10, 5))\n",
    "sns.boxplot(x=df['seller_num_followers'])\n",
    "plt.title('Box Plot of seller_num_followers')\n",
    "plt.show()"
   ]
  },
  {
   "cell_type": "code",
   "execution_count": null,
   "metadata": {
    "colab": {
     "base_uri": "https://localhost:8080/"
    },
    "id": "A9XdfgUNXwW1",
    "outputId": "95d3145d-e763-488a-9948-defbed4f7286"
   },
   "outputs": [],
   "source": [
    "column = 'seller_num_followers'\n",
    "\n",
    "Q1 = df[column].quantile(0.25)\n",
    "Q3 = df[column].quantile(0.75)\n",
    "IQR = Q3 - Q1\n",
    "\n",
    "lower_bound = Q1 - 1.5 * IQR\n",
    "upper_bound = Q3 + 1.5 * IQR\n",
    "\n",
    "outliers = df[(df[column] < lower_bound) | (df[column] > upper_bound)]\n",
    "print(\"Outliers using IQR method:\\n\", outliers)\n",
    "\n",
    "print(f\"Q1: {Q1}, Q3: {Q3}, IQR: {IQR}\")\n",
    "print(f\"Lower bound: {lower_bound}, Upper bound: {upper_bound}\")"
   ]
  },
  {
   "cell_type": "code",
   "execution_count": null,
   "metadata": {
    "id": "GXEEfSX1X2zz"
   },
   "outputs": [],
   "source": [
    "df_cleaned = df[(df[column] >= lower_bound) & (df[column] <= upper_bound)]"
   ]
  },
  {
   "cell_type": "code",
   "execution_count": null,
   "metadata": {
    "colab": {
     "base_uri": "https://localhost:8080/",
     "height": 0
    },
    "id": "8atdlQj2X53a",
    "outputId": "8e69317f-746c-4c19-dfbc-19aba5719e56"
   },
   "outputs": [],
   "source": [
    "plt.figure(figsize=(10, 5))\n",
    "sns.boxplot(x=df_cleaned['seller_num_followers'])\n",
    "plt.title('Box Plot of seller_num_followers after handling outliers')\n",
    "plt.show()"
   ]
  },
  {
   "cell_type": "code",
   "execution_count": null,
   "metadata": {
    "colab": {
     "base_uri": "https://localhost:8080/",
     "height": 0
    },
    "id": "6bkWipuuYPFy",
    "outputId": "49413b74-c47a-41a8-89e8-c30800045f1a"
   },
   "outputs": [],
   "source": [
    "plt.figure(figsize=(10, 5))\n",
    "sns.boxplot(x=df['seller_pass_rate'])\n",
    "plt.title('Box Plot of seller_pass_rate')\n",
    "plt.show()"
   ]
  },
  {
   "cell_type": "code",
   "execution_count": null,
   "metadata": {
    "colab": {
     "base_uri": "https://localhost:8080/"
    },
    "id": "YgOk1tJdX8dF",
    "outputId": "b0dfa1ca-ed04-48a9-88f5-8e5237e695fe"
   },
   "outputs": [],
   "source": [
    "column = 'seller_pass_rate'\n",
    "\n",
    "Q1 = df[column].quantile(0.25)\n",
    "Q3 = df[column].quantile(0.75)\n",
    "IQR = Q3 - Q1\n",
    "\n",
    "lower_bound = Q1 - 1.5 * IQR\n",
    "upper_bound = Q3 + 1.5 * IQR\n",
    "\n",
    "outliers = df[(df[column] < lower_bound) | (df[column] > upper_bound)]\n",
    "print(\"Outliers using IQR method:\\n\", outliers)\n",
    "\n",
    "print(f\"Q1: {Q1}, Q3: {Q3}, IQR: {IQR}\")\n",
    "print(f\"Lower bound: {lower_bound}, Upper bound: {upper_bound}\")"
   ]
  },
  {
   "cell_type": "code",
   "execution_count": null,
   "metadata": {
    "id": "4DkpTspRYOfi"
   },
   "outputs": [],
   "source": [
    "df_cleaned = df[(df[column] >= lower_bound) & (df[column] <= upper_bound)]"
   ]
  },
  {
   "cell_type": "code",
   "execution_count": null,
   "metadata": {
    "colab": {
     "base_uri": "https://localhost:8080/",
     "height": 0
    },
    "id": "3dX23MKUYcV-",
    "outputId": "502c68d5-a0e5-4522-8d77-54297fa5113d"
   },
   "outputs": [],
   "source": [
    "plt.figure(figsize=(10, 5))\n",
    "sns.boxplot(x=df_cleaned['seller_pass_rate'])\n",
    "plt.title('Box Plot of seller_pass_rate after handling outliers')\n",
    "plt.show()"
   ]
  },
  {
   "cell_type": "markdown",
   "metadata": {
    "id": "friYS-d3wist"
   },
   "source": [
    "##Trend Analysis"
   ]
  },
  {
   "cell_type": "code",
   "execution_count": null,
   "metadata": {
    "colab": {
     "base_uri": "https://localhost:8080/",
     "height": 657
    },
    "id": "eTWo_lJB-htq",
    "outputId": "8976c5df-ff5a-42ed-f3a6-ddd9779d120a"
   },
   "outputs": [],
   "source": [
    "plt.figure(figsize=(12, 6))\n",
    "product_category_counts = df['product_category'].value_counts()\n",
    "sns.barplot(x=product_category_counts.index, y=product_category_counts.values)\n",
    "plt.title('Popular Product Categories')\n",
    "plt.xlabel('Product Category')\n",
    "plt.ylabel('Count')\n",
    "plt.xticks(rotation=45)\n",
    "plt.show()"
   ]
  },
  {
   "cell_type": "code",
   "execution_count": null,
   "metadata": {
    "colab": {
     "base_uri": "https://localhost:8080/",
     "height": 663
    },
    "id": "dLVeF5jM-vz-",
    "outputId": "dc9c6e54-2d2f-43c8-f346-541569ce52bf"
   },
   "outputs": [],
   "source": [
    "plt.figure(figsize=(12, 6))\n",
    "product_condition_counts = df['product_condition'].value_counts()\n",
    "sns.barplot(x=product_condition_counts.index, y=product_condition_counts.values)\n",
    "plt.title('Product Condition Distribution')\n",
    "plt.xlabel('Product Condition')\n",
    "plt.ylabel('Count')\n",
    "plt.xticks(rotation=45)\n",
    "plt.show()"
   ]
  },
  {
   "cell_type": "code",
   "execution_count": null,
   "metadata": {
    "colab": {
     "base_uri": "https://localhost:8080/",
     "height": 654
    },
    "id": "RoHVQ3v0-znc",
    "outputId": "f9e0b0c9-cea5-4b52-b946-286721d379f1"
   },
   "outputs": [],
   "source": [
    "plt.figure(figsize=(12, 6))\n",
    "brand_counts = df['brand_name'].value_counts().head(10)\n",
    "sns.barplot(x=brand_counts.index, y=brand_counts.values)\n",
    "plt.title('Popular Brands')\n",
    "plt.xlabel('Brand Name')\n",
    "plt.ylabel('Count')\n",
    "plt.xticks(rotation=45)\n",
    "plt.show()"
   ]
  },
  {
   "cell_type": "code",
   "execution_count": null,
   "metadata": {
    "colab": {
     "base_uri": "https://localhost:8080/",
     "height": 564
    },
    "id": "0rh5vwOV_Y7r",
    "outputId": "8f57a538-674d-4093-8d6a-2e076f4d67aa"
   },
   "outputs": [],
   "source": [
    "plt.figure(figsize=(12, 6))\n",
    "sns.histplot(filtered_data['price_usd'], bins=50, kde=True)\n",
    "plt.title('Product Pricing Distribution (Without Outliers)')\n",
    "plt.xlabel('Price (USD)')\n",
    "plt.ylabel('Frequency')\n",
    "plt.show()"
   ]
  },
  {
   "cell_type": "code",
   "execution_count": null,
   "metadata": {
    "colab": {
     "base_uri": "https://localhost:8080/",
     "height": 597
    },
    "id": "qcQRsGD--5RY",
    "outputId": "e74a9089-ec87-45f2-966d-ea4820165e4e"
   },
   "outputs": [],
   "source": [
    "plt.figure(figsize=(12, 6))\n",
    "gender_target_counts = df['product_gender_target'].value_counts()\n",
    "sns.barplot(x=gender_target_counts.index, y=gender_target_counts.values)\n",
    "plt.title('Product Gender Target Distribution')\n",
    "plt.xlabel('Gender Target')\n",
    "plt.ylabel('Count')\n",
    "plt.xticks(rotation=45)\n",
    "plt.show()"
   ]
  },
  {
   "cell_type": "code",
   "execution_count": null,
   "metadata": {
    "colab": {
     "base_uri": "https://localhost:8080/",
     "height": 564
    },
    "id": "xOQppgtL-7hs",
    "outputId": "e7daf599-5985-4fd8-c116-afdfb3a9d8c7"
   },
   "outputs": [],
   "source": [
    "plt.figure(figsize=(12, 6))\n",
    "sns.scatterplot(x=df['product_like_count'], y=df['price_usd'])\n",
    "plt.title('Product Likes vs. Price')\n",
    "plt.xlabel('Product Likes')\n",
    "plt.ylabel('Price (USD)')\n",
    "plt.show()"
   ]
  },
  {
   "cell_type": "code",
   "execution_count": null,
   "metadata": {
    "colab": {
     "base_uri": "https://localhost:8080/"
    },
    "id": "tFmYbw-C17cp",
    "outputId": "f314e208-976c-4f48-c170-9e6b23bf07d7"
   },
   "outputs": [],
   "source": [
    "df.seller_country"
   ]
  },
  {
   "cell_type": "code",
   "execution_count": null,
   "metadata": {
    "colab": {
     "base_uri": "https://localhost:8080/",
     "height": 1000
    },
    "id": "FGMWxUKhwkwr",
    "outputId": "8b659503-e22c-47ca-9f50-db6b635104bc"
   },
   "outputs": [],
   "source": [
    "import geopandas as gpd\n",
    "country_to_region = {\n",
    "    'USA': 'North America',\n",
    "    'Canada': 'North America',\n",
    "    'Mexico': 'North America',\n",
    "    'Brazil': 'South America',\n",
    "    'Argentina': 'South America',\n",
    "    'Germany': 'Europe',\n",
    "    'France': 'Europe',\n",
    "    'China': 'Asia',\n",
    "    'Japan': 'Asia',\n",
    "    'Australia': 'Oceania',\n",
    "    # Add more countries and their respective regions\n",
    "}\n",
    "\n",
    "# Apply the mapping to create a new column for regions\n",
    "df['seller_region'] = df['seller_country'].map(country_to_region)\n",
    "\n",
    "# Drop rows where region is not mapped\n",
    "df = df.dropna(subset=['seller_region'])\n",
    "\n",
    "# Load geographical data\n",
    "world = gpd.read_file(gpd.datasets.get_path('naturalearth_lowres'))\n",
    "\n",
    "# Count the number of sellers in each country\n",
    "country_counts = df['seller_country'].value_counts().reset_index()\n",
    "country_counts.columns = ['country', 'count']\n",
    "\n",
    "# Merge with world data\n",
    "world = world.merge(country_counts, how='left', left_on='name', right_on='country')\n",
    "\n",
    "# Plot the geographical distribution of sellers\n",
    "fig, ax = plt.subplots(1, 1, figsize=(15, 10))\n",
    "world.boundary.plot(ax=ax)\n",
    "world.plot(column='count', ax=ax, legend=True,\n",
    "           legend_kwds={'label': \"Number of Sellers by Country\",\n",
    "                        'orientation': \"horizontal\"},\n",
    "           missing_kwds={\"color\": \"lightgrey\"})\n",
    "\n",
    "plt.title('Geographical Distribution of Sellers')\n",
    "plt.show()\n",
    "\n",
    "# Regional Analysis\n",
    "# Count the number of sellers in each region\n",
    "region_counts = df['seller_region'].value_counts()\n",
    "print(region_counts)\n",
    "\n",
    "# Plot regional counts\n",
    "region_counts.plot(kind='bar', figsize=(12, 6))\n",
    "plt.title('Number of Sellers by Region')\n",
    "plt.xlabel('Region')\n",
    "plt.ylabel('Number of Sellers')\n",
    "plt.show()\n",
    "\n",
    "# Identify the region with the most sellers\n",
    "most_popular_region = region_counts.idxmax()\n",
    "most_popular_region_count = region_counts.max()\n",
    "\n",
    "print(f\"The region with the most sellers is {most_popular_region} with {most_popular_region_count} sellers.\")\n"
   ]
  }
 ],
 "metadata": {
  "colab": {
   "collapsed_sections": [
    "N2RQ8m3d6kzR",
    "mxxdIoIv6u0e",
    "3K-3MlHv6_2Y",
    "Uh27i1_DHaEj",
    "C-l1p4v_HwJG",
    "RTIHgyh-QopX",
    "friYS-d3wist"
   ],
   "provenance": []
  },
  "kernelspec": {
   "display_name": "Python 3 (ipykernel)",
   "language": "python",
   "name": "python3"
  },
  "language_info": {
   "codemirror_mode": {
    "name": "ipython",
    "version": 3
   },
   "file_extension": ".py",
   "mimetype": "text/x-python",
   "name": "python",
   "nbconvert_exporter": "python",
   "pygments_lexer": "ipython3",
   "version": "3.11.7"
  }
 },
 "nbformat": 4,
 "nbformat_minor": 4
}
